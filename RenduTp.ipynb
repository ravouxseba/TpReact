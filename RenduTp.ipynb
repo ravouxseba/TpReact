{
 "cells": [
  {
   "cell_type": "code",
   "execution_count": 28,
   "metadata": {},
   "outputs": [],
   "source": [
    "import pandas as pd\n",
    "import numpy as np\n",
    "import requests\n",
    "from datetime import datetime, date\n",
    "import matplotlib.pyplot as plt\n",
    "import matplotlib.ticker as ticker\n",
    "import matplotlib.dates as mdates"
   ]
  },
  {
   "cell_type": "code",
   "execution_count": null,
   "metadata": {},
   "outputs": [],
   "source": []
  },
  {
   "cell_type": "code",
   "execution_count": 3,
   "metadata": {},
   "outputs": [
    {
     "data": {
      "text/html": [
       "<div>\n",
       "<style scoped>\n",
       "    .dataframe tbody tr th:only-of-type {\n",
       "        vertical-align: middle;\n",
       "    }\n",
       "\n",
       "    .dataframe tbody tr th {\n",
       "        vertical-align: top;\n",
       "    }\n",
       "\n",
       "    .dataframe thead th {\n",
       "        text-align: right;\n",
       "    }\n",
       "</style>\n",
       "<table border=\"1\" class=\"dataframe\">\n",
       "  <thead>\n",
       "    <tr style=\"text-align: right;\">\n",
       "      <th></th>\n",
       "      <th>title</th>\n",
       "      <th>year</th>\n",
       "      <th>duration</th>\n",
       "    </tr>\n",
       "    <tr>\n",
       "      <th>id</th>\n",
       "      <th></th>\n",
       "      <th></th>\n",
       "      <th></th>\n",
       "    </tr>\n",
       "  </thead>\n",
       "  <tbody>\n",
       "    <tr>\n",
       "      <th>5257</th>\n",
       "      <td>Excuse Me</td>\n",
       "      <td>1915</td>\n",
       "      <td>50.0</td>\n",
       "    </tr>\n",
       "    <tr>\n",
       "      <th>6366</th>\n",
       "      <td>Anton the Terrible</td>\n",
       "      <td>1916</td>\n",
       "      <td>50.0</td>\n",
       "    </tr>\n",
       "    <tr>\n",
       "      <th>8351</th>\n",
       "      <td>The Mysterious Mrs. Musslewhite</td>\n",
       "      <td>1917</td>\n",
       "      <td>50.0</td>\n",
       "    </tr>\n",
       "    <tr>\n",
       "      <th>8384</th>\n",
       "      <td>On the Level</td>\n",
       "      <td>1917</td>\n",
       "      <td>50.0</td>\n",
       "    </tr>\n",
       "    <tr>\n",
       "      <th>8642</th>\n",
       "      <td>The Sunset Trail</td>\n",
       "      <td>1917</td>\n",
       "      <td>50.0</td>\n",
       "    </tr>\n",
       "    <tr>\n",
       "      <th>...</th>\n",
       "      <td>...</td>\n",
       "      <td>...</td>\n",
       "      <td>...</td>\n",
       "    </tr>\n",
       "    <tr>\n",
       "      <th>11633360</th>\n",
       "      <td>Royal Court of China: Half the Truth</td>\n",
       "      <td>1989</td>\n",
       "      <td>NaN</td>\n",
       "    </tr>\n",
       "    <tr>\n",
       "      <th>11833768</th>\n",
       "      <td>Neil Cicierega: Wow Wow (Audio)</td>\n",
       "      <td>2017</td>\n",
       "      <td>3.0</td>\n",
       "    </tr>\n",
       "    <tr>\n",
       "      <th>11885402</th>\n",
       "      <td>Dan Aykroyd and Tom Hanks: City of Crime</td>\n",
       "      <td>1987</td>\n",
       "      <td>NaN</td>\n",
       "    </tr>\n",
       "    <tr>\n",
       "      <th>11911992</th>\n",
       "      <td>Bleu de Chanel: The Film</td>\n",
       "      <td>2018</td>\n",
       "      <td>1.0</td>\n",
       "    </tr>\n",
       "    <tr>\n",
       "      <th>12771922</th>\n",
       "      <td>Neil Cicierega: Vivid Memories Turn to Fantasi...</td>\n",
       "      <td>2014</td>\n",
       "      <td>3.0</td>\n",
       "    </tr>\n",
       "  </tbody>\n",
       "</table>\n",
       "<p>1268 rows × 3 columns</p>\n",
       "</div>"
      ],
      "text/plain": [
       "                                                      title  year  duration\n",
       "id                                                                         \n",
       "5257                                              Excuse Me  1915      50.0\n",
       "6366                                     Anton the Terrible  1916      50.0\n",
       "8351                        The Mysterious Mrs. Musslewhite  1917      50.0\n",
       "8384                                           On the Level  1917      50.0\n",
       "8642                                       The Sunset Trail  1917      50.0\n",
       "...                                                     ...   ...       ...\n",
       "11633360               Royal Court of China: Half the Truth  1989       NaN\n",
       "11833768                    Neil Cicierega: Wow Wow (Audio)  2017       3.0\n",
       "11885402           Dan Aykroyd and Tom Hanks: City of Crime  1987       NaN\n",
       "11911992                           Bleu de Chanel: The Film  2018       1.0\n",
       "12771922  Neil Cicierega: Vivid Memories Turn to Fantasi...  2014       3.0\n",
       "\n",
       "[1268 rows x 3 columns]"
      ]
     },
     "execution_count": 3,
     "metadata": {},
     "output_type": "execute_result"
    }
   ],
   "source": [
    "limit = 1500\n",
    "dfMovies = pd.read_json(f'http://localhost:8000/movies?limit={limit}')\n",
    "dfMovies.set_index('id', inplace=True)\n",
    "dfMovies"
   ]
  },
  {
   "cell_type": "code",
   "execution_count": 4,
   "metadata": {},
   "outputs": [
    {
     "data": {
      "text/plain": [
       "pandas.core.frame.DataFrame"
      ]
     },
     "execution_count": 4,
     "metadata": {},
     "output_type": "execute_result"
    }
   ],
   "source": [
    "type(dfMovies)"
   ]
  },
  {
   "cell_type": "code",
   "execution_count": 5,
   "metadata": {},
   "outputs": [
    {
     "data": {
      "text/html": [
       "<div>\n",
       "<style scoped>\n",
       "    .dataframe tbody tr th:only-of-type {\n",
       "        vertical-align: middle;\n",
       "    }\n",
       "\n",
       "    .dataframe tbody tr th {\n",
       "        vertical-align: top;\n",
       "    }\n",
       "\n",
       "    .dataframe thead th {\n",
       "        text-align: right;\n",
       "    }\n",
       "</style>\n",
       "<table border=\"1\" class=\"dataframe\">\n",
       "  <thead>\n",
       "    <tr style=\"text-align: right;\">\n",
       "      <th></th>\n",
       "      <th>year</th>\n",
       "      <th>movie_count</th>\n",
       "    </tr>\n",
       "  </thead>\n",
       "  <tbody>\n",
       "    <tr>\n",
       "      <th>0</th>\n",
       "      <td>1915</td>\n",
       "      <td>1</td>\n",
       "    </tr>\n",
       "    <tr>\n",
       "      <th>1</th>\n",
       "      <td>1916</td>\n",
       "      <td>1</td>\n",
       "    </tr>\n",
       "    <tr>\n",
       "      <th>2</th>\n",
       "      <td>1917</td>\n",
       "      <td>7</td>\n",
       "    </tr>\n",
       "    <tr>\n",
       "      <th>3</th>\n",
       "      <td>1918</td>\n",
       "      <td>10</td>\n",
       "    </tr>\n",
       "    <tr>\n",
       "      <th>4</th>\n",
       "      <td>1919</td>\n",
       "      <td>10</td>\n",
       "    </tr>\n",
       "    <tr>\n",
       "      <th>...</th>\n",
       "      <td>...</td>\n",
       "      <td>...</td>\n",
       "    </tr>\n",
       "    <tr>\n",
       "      <th>101</th>\n",
       "      <td>2016</td>\n",
       "      <td>13</td>\n",
       "    </tr>\n",
       "    <tr>\n",
       "      <th>102</th>\n",
       "      <td>2017</td>\n",
       "      <td>17</td>\n",
       "    </tr>\n",
       "    <tr>\n",
       "      <th>103</th>\n",
       "      <td>2018</td>\n",
       "      <td>13</td>\n",
       "    </tr>\n",
       "    <tr>\n",
       "      <th>104</th>\n",
       "      <td>2019</td>\n",
       "      <td>23</td>\n",
       "    </tr>\n",
       "    <tr>\n",
       "      <th>105</th>\n",
       "      <td>2020</td>\n",
       "      <td>4</td>\n",
       "    </tr>\n",
       "  </tbody>\n",
       "</table>\n",
       "<p>106 rows × 2 columns</p>\n",
       "</div>"
      ],
      "text/plain": [
       "     year  movie_count\n",
       "0    1915            1\n",
       "1    1916            1\n",
       "2    1917            7\n",
       "3    1918           10\n",
       "4    1919           10\n",
       "..    ...          ...\n",
       "101  2016           13\n",
       "102  2017           17\n",
       "103  2018           13\n",
       "104  2019           23\n",
       "105  2020            4\n",
       "\n",
       "[106 rows x 2 columns]"
      ]
     },
     "execution_count": 5,
     "metadata": {},
     "output_type": "execute_result"
    }
   ],
   "source": [
    "dfStatsMovieByYear = pd.read_json('http://localhost:8000/movies/count_by_year')\n",
    "dfStatsMovieByYear.columns=['year', 'movie_count']\n",
    "#dfStatsMovieByYear.set_index('year', inplace=True)\n",
    "dfStatsMovieByYear"
   ]
  },
  {
   "cell_type": "code",
   "execution_count": 6,
   "metadata": {},
   "outputs": [
    {
     "data": {
      "text/html": [
       "<div>\n",
       "<style scoped>\n",
       "    .dataframe tbody tr th:only-of-type {\n",
       "        vertical-align: middle;\n",
       "    }\n",
       "\n",
       "    .dataframe tbody tr th {\n",
       "        vertical-align: top;\n",
       "    }\n",
       "\n",
       "    .dataframe thead th {\n",
       "        text-align: right;\n",
       "    }\n",
       "</style>\n",
       "<table border=\"1\" class=\"dataframe\">\n",
       "  <thead>\n",
       "    <tr style=\"text-align: right;\">\n",
       "      <th></th>\n",
       "      <th>0</th>\n",
       "      <th>1</th>\n",
       "    </tr>\n",
       "  </thead>\n",
       "  <tbody>\n",
       "    <tr>\n",
       "      <th>0</th>\n",
       "      <td>{'birthdate': '1899-08-13', 'name': 'Alfred Hi...</td>\n",
       "      <td>60</td>\n",
       "    </tr>\n",
       "    <tr>\n",
       "      <th>1</th>\n",
       "      <td>{'birthdate': '1942-11-17', 'name': 'Martin Sc...</td>\n",
       "      <td>48</td>\n",
       "    </tr>\n",
       "    <tr>\n",
       "      <th>2</th>\n",
       "      <td>{'birthdate': '1946-12-18', 'name': 'Steven Sp...</td>\n",
       "      <td>41</td>\n",
       "    </tr>\n",
       "    <tr>\n",
       "      <th>3</th>\n",
       "      <td>{'birthdate': '1930-05-31', 'name': 'Clint Eas...</td>\n",
       "      <td>39</td>\n",
       "    </tr>\n",
       "    <tr>\n",
       "      <th>4</th>\n",
       "      <td>{'birthdate': '1940-09-11', 'name': 'Brian De ...</td>\n",
       "      <td>38</td>\n",
       "    </tr>\n",
       "    <tr>\n",
       "      <th>5</th>\n",
       "      <td>{'birthdate': '1937-11-30', 'name': 'Ridley Sc...</td>\n",
       "      <td>35</td>\n",
       "    </tr>\n",
       "    <tr>\n",
       "      <th>6</th>\n",
       "      <td>{'birthdate': '1946-09-22', 'name': 'John Woo'...</td>\n",
       "      <td>34</td>\n",
       "    </tr>\n",
       "    <tr>\n",
       "      <th>7</th>\n",
       "      <td>{'birthdate': '1959-10-23', 'name': 'Sam Raimi...</td>\n",
       "      <td>31</td>\n",
       "    </tr>\n",
       "    <tr>\n",
       "      <th>8</th>\n",
       "      <td>{'birthdate': '1969-10-09', 'name': 'Steve McQ...</td>\n",
       "      <td>31</td>\n",
       "    </tr>\n",
       "    <tr>\n",
       "      <th>9</th>\n",
       "      <td>{'birthdate': None, 'name': 'John Ford', 'id':...</td>\n",
       "      <td>20</td>\n",
       "    </tr>\n",
       "    <tr>\n",
       "      <th>10</th>\n",
       "      <td>{'birthdate': '1961-10-31', 'name': 'Peter Jac...</td>\n",
       "      <td>19</td>\n",
       "    </tr>\n",
       "    <tr>\n",
       "      <th>11</th>\n",
       "      <td>{'birthdate': '1956-10-20', 'name': 'Danny Boy...</td>\n",
       "      <td>18</td>\n",
       "    </tr>\n",
       "    <tr>\n",
       "      <th>12</th>\n",
       "      <td>{'birthdate': '1954-08-16', 'name': 'James Cam...</td>\n",
       "      <td>14</td>\n",
       "    </tr>\n",
       "    <tr>\n",
       "      <th>13</th>\n",
       "      <td>{'birthdate': None, 'name': 'Walter Edwards', ...</td>\n",
       "      <td>14</td>\n",
       "    </tr>\n",
       "    <tr>\n",
       "      <th>14</th>\n",
       "      <td>{'birthdate': '1963-03-27', 'name': 'Quentin T...</td>\n",
       "      <td>14</td>\n",
       "    </tr>\n",
       "    <tr>\n",
       "      <th>15</th>\n",
       "      <td>{'birthdate': '1970-07-30', 'name': 'Christoph...</td>\n",
       "      <td>13</td>\n",
       "    </tr>\n",
       "    <tr>\n",
       "      <th>16</th>\n",
       "      <td>{'birthdate': None, 'name': 'Robert N. Bradbur...</td>\n",
       "      <td>13</td>\n",
       "    </tr>\n",
       "    <tr>\n",
       "      <th>17</th>\n",
       "      <td>{'birthdate': '1969-09-14', 'name': 'Bong Joon...</td>\n",
       "      <td>12</td>\n",
       "    </tr>\n",
       "    <tr>\n",
       "      <th>18</th>\n",
       "      <td>{'birthdate': '1957-09-21', 'name': 'Ethan Coe...</td>\n",
       "      <td>12</td>\n",
       "    </tr>\n",
       "    <tr>\n",
       "      <th>19</th>\n",
       "      <td>{'birthdate': '1954-11-29', 'name': 'Joel Coen...</td>\n",
       "      <td>11</td>\n",
       "    </tr>\n",
       "  </tbody>\n",
       "</table>\n",
       "</div>"
      ],
      "text/plain": [
       "                                                    0   1\n",
       "0   {'birthdate': '1899-08-13', 'name': 'Alfred Hi...  60\n",
       "1   {'birthdate': '1942-11-17', 'name': 'Martin Sc...  48\n",
       "2   {'birthdate': '1946-12-18', 'name': 'Steven Sp...  41\n",
       "3   {'birthdate': '1930-05-31', 'name': 'Clint Eas...  39\n",
       "4   {'birthdate': '1940-09-11', 'name': 'Brian De ...  38\n",
       "5   {'birthdate': '1937-11-30', 'name': 'Ridley Sc...  35\n",
       "6   {'birthdate': '1946-09-22', 'name': 'John Woo'...  34\n",
       "7   {'birthdate': '1959-10-23', 'name': 'Sam Raimi...  31\n",
       "8   {'birthdate': '1969-10-09', 'name': 'Steve McQ...  31\n",
       "9   {'birthdate': None, 'name': 'John Ford', 'id':...  20\n",
       "10  {'birthdate': '1961-10-31', 'name': 'Peter Jac...  19\n",
       "11  {'birthdate': '1956-10-20', 'name': 'Danny Boy...  18\n",
       "12  {'birthdate': '1954-08-16', 'name': 'James Cam...  14\n",
       "13  {'birthdate': None, 'name': 'Walter Edwards', ...  14\n",
       "14  {'birthdate': '1963-03-27', 'name': 'Quentin T...  14\n",
       "15  {'birthdate': '1970-07-30', 'name': 'Christoph...  13\n",
       "16  {'birthdate': None, 'name': 'Robert N. Bradbur...  13\n",
       "17  {'birthdate': '1969-09-14', 'name': 'Bong Joon...  12\n",
       "18  {'birthdate': '1957-09-21', 'name': 'Ethan Coe...  12\n",
       "19  {'birthdate': '1954-11-29', 'name': 'Joel Coen...  11"
      ]
     },
     "execution_count": 6,
     "metadata": {},
     "output_type": "execute_result"
    }
   ],
   "source": [
    "# le résultat n'est pas fameux\n",
    "dfStatsMovieByDirector = pd.read_json('http://localhost:8000/stars/stats_movie_by_director')\n",
    "dfStatsMovieByDirector"
   ]
  },
  {
   "cell_type": "code",
   "execution_count": 7,
   "metadata": {},
   "outputs": [
    {
     "data": {
      "text/plain": [
       "<Response [200]>"
      ]
     },
     "execution_count": 7,
     "metadata": {},
     "output_type": "execute_result"
    }
   ],
   "source": [
    "response = requests.get('http://localhost:8000/stars/stats_movie_by_director')\n",
    "response"
   ]
  },
  {
   "cell_type": "code",
   "execution_count": 8,
   "metadata": {},
   "outputs": [
    {
     "name": "stdout",
     "output_type": "stream",
     "text": [
      "Response OK\n"
     ]
    }
   ],
   "source": [
    "\n",
    "if response.status_code == 200:\n",
    "    print('Response OK')\n",
    "else:\n",
    "    print('Error', response.status_code, response.json(), sep=', ')"
   ]
  },
  {
   "cell_type": "code",
   "execution_count": 9,
   "metadata": {},
   "outputs": [
    {
     "data": {
      "text/plain": [
       "[[{'birthdate': '1899-08-13', 'name': 'Alfred Hitchcock', 'id': 33}, 60],\n",
       " [{'birthdate': '1942-11-17', 'name': 'Martin Scorsese', 'id': 217}, 48],\n",
       " [{'birthdate': '1946-12-18', 'name': 'Steven Spielberg', 'id': 229}, 41],\n",
       " [{'birthdate': '1930-05-31', 'name': 'Clint Eastwood', 'id': 142}, 39],\n",
       " [{'birthdate': '1940-09-11', 'name': 'Brian De Palma', 'id': 361}, 38],\n",
       " [{'birthdate': '1937-11-30', 'name': 'Ridley Scott', 'id': 631}, 35],\n",
       " [{'birthdate': '1946-09-22', 'name': 'John Woo', 'id': 247}, 34],\n",
       " [{'birthdate': '1959-10-23', 'name': 'Sam Raimi', 'id': 600}, 31],\n",
       " [{'birthdate': '1969-10-09', 'name': 'Steve McQueen', 'id': 2588606}, 31],\n",
       " [{'birthdate': None, 'name': 'John Ford', 'id': 406}, 20],\n",
       " [{'birthdate': '1961-10-31', 'name': 'Peter Jackson', 'id': 1392}, 19],\n",
       " [{'birthdate': '1956-10-20', 'name': 'Danny Boyle', 'id': 965}, 18],\n",
       " [{'birthdate': '1954-08-16', 'name': 'James Cameron', 'id': 116}, 14],\n",
       " [{'birthdate': None, 'name': 'Walter Edwards', 'id': 250445}, 14],\n",
       " [{'birthdate': '1963-03-27', 'name': 'Quentin Tarantino', 'id': 233}, 14],\n",
       " [{'birthdate': '1970-07-30', 'name': 'Christopher Nolan', 'id': 634240}, 13],\n",
       " [{'birthdate': None, 'name': 'Robert N. Bradbury', 'id': 102908}, 13],\n",
       " [{'birthdate': '1969-09-14', 'name': 'Bong Joon Ho', 'id': 94435}, 12],\n",
       " [{'birthdate': '1957-09-21', 'name': 'Ethan Coen', 'id': 1053}, 12],\n",
       " [{'birthdate': '1954-11-29', 'name': 'Joel Coen', 'id': 1054}, 11]]"
      ]
     },
     "execution_count": 9,
     "metadata": {},
     "output_type": "execute_result"
    }
   ],
   "source": [
    "\n",
    "data_json = response.json()\n",
    "data_json"
   ]
  },
  {
   "cell_type": "code",
   "execution_count": 10,
   "metadata": {},
   "outputs": [
    {
     "data": {
      "text/plain": [
       "[(33, 'Alfred Hitchcock', '1899-08-13', 60),\n",
       " (217, 'Martin Scorsese', '1942-11-17', 48),\n",
       " (229, 'Steven Spielberg', '1946-12-18', 41),\n",
       " (142, 'Clint Eastwood', '1930-05-31', 39),\n",
       " (361, 'Brian De Palma', '1940-09-11', 38),\n",
       " (631, 'Ridley Scott', '1937-11-30', 35),\n",
       " (247, 'John Woo', '1946-09-22', 34),\n",
       " (600, 'Sam Raimi', '1959-10-23', 31),\n",
       " (2588606, 'Steve McQueen', '1969-10-09', 31),\n",
       " (406, 'John Ford', None, 20),\n",
       " (1392, 'Peter Jackson', '1961-10-31', 19),\n",
       " (965, 'Danny Boyle', '1956-10-20', 18),\n",
       " (116, 'James Cameron', '1954-08-16', 14),\n",
       " (250445, 'Walter Edwards', None, 14),\n",
       " (233, 'Quentin Tarantino', '1963-03-27', 14),\n",
       " (634240, 'Christopher Nolan', '1970-07-30', 13),\n",
       " (102908, 'Robert N. Bradbury', None, 13),\n",
       " (94435, 'Bong Joon Ho', '1969-09-14', 12),\n",
       " (1053, 'Ethan Coen', '1957-09-21', 12),\n",
       " (1054, 'Joel Coen', '1954-11-29', 11)]"
      ]
     },
     "execution_count": 10,
     "metadata": {},
     "output_type": "execute_result"
    }
   ],
   "source": [
    "# applatir en liste de tuples\n",
    "data_flatten = [ (director_dict['id'], director_dict['name'], director_dict['birthdate'], movie_count )  \n",
    "         for director_dict, movie_count in data_json ]\n",
    "data_flatten"
   ]
  },
  {
   "cell_type": "code",
   "execution_count": 11,
   "metadata": {},
   "outputs": [
    {
     "data": {
      "text/plain": [
       "[{'birthdate': '1899-08-13',\n",
       "  'name': 'Alfred Hitchcock',\n",
       "  'id': 33,\n",
       "  'movie_count': 60},\n",
       " {'birthdate': '1942-11-17',\n",
       "  'name': 'Martin Scorsese',\n",
       "  'id': 217,\n",
       "  'movie_count': 48},\n",
       " {'birthdate': '1946-12-18',\n",
       "  'name': 'Steven Spielberg',\n",
       "  'id': 229,\n",
       "  'movie_count': 41},\n",
       " {'birthdate': '1930-05-31',\n",
       "  'name': 'Clint Eastwood',\n",
       "  'id': 142,\n",
       "  'movie_count': 39},\n",
       " {'birthdate': '1940-09-11',\n",
       "  'name': 'Brian De Palma',\n",
       "  'id': 361,\n",
       "  'movie_count': 38},\n",
       " {'birthdate': '1937-11-30',\n",
       "  'name': 'Ridley Scott',\n",
       "  'id': 631,\n",
       "  'movie_count': 35},\n",
       " {'birthdate': '1946-09-22', 'name': 'John Woo', 'id': 247, 'movie_count': 34},\n",
       " {'birthdate': '1959-10-23',\n",
       "  'name': 'Sam Raimi',\n",
       "  'id': 600,\n",
       "  'movie_count': 31},\n",
       " {'birthdate': '1969-10-09',\n",
       "  'name': 'Steve McQueen',\n",
       "  'id': 2588606,\n",
       "  'movie_count': 31},\n",
       " {'birthdate': None, 'name': 'John Ford', 'id': 406, 'movie_count': 20},\n",
       " {'birthdate': '1961-10-31',\n",
       "  'name': 'Peter Jackson',\n",
       "  'id': 1392,\n",
       "  'movie_count': 19},\n",
       " {'birthdate': '1956-10-20',\n",
       "  'name': 'Danny Boyle',\n",
       "  'id': 965,\n",
       "  'movie_count': 18},\n",
       " {'birthdate': '1954-08-16',\n",
       "  'name': 'James Cameron',\n",
       "  'id': 116,\n",
       "  'movie_count': 14},\n",
       " {'birthdate': None,\n",
       "  'name': 'Walter Edwards',\n",
       "  'id': 250445,\n",
       "  'movie_count': 14},\n",
       " {'birthdate': '1963-03-27',\n",
       "  'name': 'Quentin Tarantino',\n",
       "  'id': 233,\n",
       "  'movie_count': 14},\n",
       " {'birthdate': '1970-07-30',\n",
       "  'name': 'Christopher Nolan',\n",
       "  'id': 634240,\n",
       "  'movie_count': 13},\n",
       " {'birthdate': None,\n",
       "  'name': 'Robert N. Bradbury',\n",
       "  'id': 102908,\n",
       "  'movie_count': 13},\n",
       " {'birthdate': '1969-09-14',\n",
       "  'name': 'Bong Joon Ho',\n",
       "  'id': 94435,\n",
       "  'movie_count': 12},\n",
       " {'birthdate': '1957-09-21',\n",
       "  'name': 'Ethan Coen',\n",
       "  'id': 1053,\n",
       "  'movie_count': 12},\n",
       " {'birthdate': '1954-11-29',\n",
       "  'name': 'Joel Coen',\n",
       "  'id': 1054,\n",
       "  'movie_count': 11}]"
      ]
     },
     "execution_count": 11,
     "metadata": {},
     "output_type": "execute_result"
    }
   ],
   "source": [
    "\n",
    "# applatir en list de dicts\n",
    "data_flatten = [ {**director_dict, 'movie_count': movie_count }  \n",
    "         for director_dict, movie_count in data_json ]\n",
    "data_flatten"
   ]
  },
  {
   "cell_type": "code",
   "execution_count": 12,
   "metadata": {},
   "outputs": [
    {
     "data": {
      "text/html": [
       "<div>\n",
       "<style scoped>\n",
       "    .dataframe tbody tr th:only-of-type {\n",
       "        vertical-align: middle;\n",
       "    }\n",
       "\n",
       "    .dataframe tbody tr th {\n",
       "        vertical-align: top;\n",
       "    }\n",
       "\n",
       "    .dataframe thead th {\n",
       "        text-align: right;\n",
       "    }\n",
       "</style>\n",
       "<table border=\"1\" class=\"dataframe\">\n",
       "  <thead>\n",
       "    <tr style=\"text-align: right;\">\n",
       "      <th></th>\n",
       "      <th>birthdate</th>\n",
       "      <th>name</th>\n",
       "      <th>movie_count</th>\n",
       "    </tr>\n",
       "    <tr>\n",
       "      <th>id</th>\n",
       "      <th></th>\n",
       "      <th></th>\n",
       "      <th></th>\n",
       "    </tr>\n",
       "  </thead>\n",
       "  <tbody>\n",
       "    <tr>\n",
       "      <th>33</th>\n",
       "      <td>1899-08-13</td>\n",
       "      <td>Alfred Hitchcock</td>\n",
       "      <td>60</td>\n",
       "    </tr>\n",
       "    <tr>\n",
       "      <th>217</th>\n",
       "      <td>1942-11-17</td>\n",
       "      <td>Martin Scorsese</td>\n",
       "      <td>48</td>\n",
       "    </tr>\n",
       "    <tr>\n",
       "      <th>229</th>\n",
       "      <td>1946-12-18</td>\n",
       "      <td>Steven Spielberg</td>\n",
       "      <td>41</td>\n",
       "    </tr>\n",
       "    <tr>\n",
       "      <th>142</th>\n",
       "      <td>1930-05-31</td>\n",
       "      <td>Clint Eastwood</td>\n",
       "      <td>39</td>\n",
       "    </tr>\n",
       "    <tr>\n",
       "      <th>361</th>\n",
       "      <td>1940-09-11</td>\n",
       "      <td>Brian De Palma</td>\n",
       "      <td>38</td>\n",
       "    </tr>\n",
       "    <tr>\n",
       "      <th>631</th>\n",
       "      <td>1937-11-30</td>\n",
       "      <td>Ridley Scott</td>\n",
       "      <td>35</td>\n",
       "    </tr>\n",
       "    <tr>\n",
       "      <th>247</th>\n",
       "      <td>1946-09-22</td>\n",
       "      <td>John Woo</td>\n",
       "      <td>34</td>\n",
       "    </tr>\n",
       "    <tr>\n",
       "      <th>600</th>\n",
       "      <td>1959-10-23</td>\n",
       "      <td>Sam Raimi</td>\n",
       "      <td>31</td>\n",
       "    </tr>\n",
       "    <tr>\n",
       "      <th>2588606</th>\n",
       "      <td>1969-10-09</td>\n",
       "      <td>Steve McQueen</td>\n",
       "      <td>31</td>\n",
       "    </tr>\n",
       "    <tr>\n",
       "      <th>406</th>\n",
       "      <td>None</td>\n",
       "      <td>John Ford</td>\n",
       "      <td>20</td>\n",
       "    </tr>\n",
       "    <tr>\n",
       "      <th>1392</th>\n",
       "      <td>1961-10-31</td>\n",
       "      <td>Peter Jackson</td>\n",
       "      <td>19</td>\n",
       "    </tr>\n",
       "    <tr>\n",
       "      <th>965</th>\n",
       "      <td>1956-10-20</td>\n",
       "      <td>Danny Boyle</td>\n",
       "      <td>18</td>\n",
       "    </tr>\n",
       "    <tr>\n",
       "      <th>116</th>\n",
       "      <td>1954-08-16</td>\n",
       "      <td>James Cameron</td>\n",
       "      <td>14</td>\n",
       "    </tr>\n",
       "    <tr>\n",
       "      <th>250445</th>\n",
       "      <td>None</td>\n",
       "      <td>Walter Edwards</td>\n",
       "      <td>14</td>\n",
       "    </tr>\n",
       "    <tr>\n",
       "      <th>233</th>\n",
       "      <td>1963-03-27</td>\n",
       "      <td>Quentin Tarantino</td>\n",
       "      <td>14</td>\n",
       "    </tr>\n",
       "    <tr>\n",
       "      <th>634240</th>\n",
       "      <td>1970-07-30</td>\n",
       "      <td>Christopher Nolan</td>\n",
       "      <td>13</td>\n",
       "    </tr>\n",
       "    <tr>\n",
       "      <th>102908</th>\n",
       "      <td>None</td>\n",
       "      <td>Robert N. Bradbury</td>\n",
       "      <td>13</td>\n",
       "    </tr>\n",
       "    <tr>\n",
       "      <th>94435</th>\n",
       "      <td>1969-09-14</td>\n",
       "      <td>Bong Joon Ho</td>\n",
       "      <td>12</td>\n",
       "    </tr>\n",
       "    <tr>\n",
       "      <th>1053</th>\n",
       "      <td>1957-09-21</td>\n",
       "      <td>Ethan Coen</td>\n",
       "      <td>12</td>\n",
       "    </tr>\n",
       "    <tr>\n",
       "      <th>1054</th>\n",
       "      <td>1954-11-29</td>\n",
       "      <td>Joel Coen</td>\n",
       "      <td>11</td>\n",
       "    </tr>\n",
       "  </tbody>\n",
       "</table>\n",
       "</div>"
      ],
      "text/plain": [
       "          birthdate                name  movie_count\n",
       "id                                                  \n",
       "33       1899-08-13    Alfred Hitchcock           60\n",
       "217      1942-11-17     Martin Scorsese           48\n",
       "229      1946-12-18    Steven Spielberg           41\n",
       "142      1930-05-31      Clint Eastwood           39\n",
       "361      1940-09-11      Brian De Palma           38\n",
       "631      1937-11-30        Ridley Scott           35\n",
       "247      1946-09-22            John Woo           34\n",
       "600      1959-10-23           Sam Raimi           31\n",
       "2588606  1969-10-09       Steve McQueen           31\n",
       "406            None           John Ford           20\n",
       "1392     1961-10-31       Peter Jackson           19\n",
       "965      1956-10-20         Danny Boyle           18\n",
       "116      1954-08-16       James Cameron           14\n",
       "250445         None      Walter Edwards           14\n",
       "233      1963-03-27   Quentin Tarantino           14\n",
       "634240   1970-07-30   Christopher Nolan           13\n",
       "102908         None  Robert N. Bradbury           13\n",
       "94435    1969-09-14        Bong Joon Ho           12\n",
       "1053     1957-09-21          Ethan Coen           12\n",
       "1054     1954-11-29           Joel Coen           11"
      ]
     },
     "execution_count": 12,
     "metadata": {},
     "output_type": "execute_result"
    }
   ],
   "source": [
    "dfStatsMovieByDirector = pd.DataFrame(data_flatten)\n",
    "dfStatsMovieByDirector.set_index('id', inplace=True)\n",
    "dfStatsMovieByDirector"
   ]
  },
  {
   "cell_type": "code",
   "execution_count": 13,
   "metadata": {},
   "outputs": [
    {
     "data": {
      "text/plain": [
       "'1899-08-13'"
      ]
     },
     "execution_count": 13,
     "metadata": {},
     "output_type": "execute_result"
    }
   ],
   "source": [
    "\n",
    "dfStatsMovieByDirector.loc[33].birthdate"
   ]
  },
  {
   "cell_type": "code",
   "execution_count": 14,
   "metadata": {},
   "outputs": [
    {
     "data": {
      "text/plain": [
       "datetime.date(1899, 8, 13)"
      ]
     },
     "execution_count": 14,
     "metadata": {},
     "output_type": "execute_result"
    }
   ],
   "source": [
    "datetime.strptime('1899-08-13', '%Y-%m-%d').date()"
   ]
  },
  {
   "cell_type": "code",
   "execution_count": 15,
   "metadata": {},
   "outputs": [
    {
     "data": {
      "text/plain": [
       "datetime.date(1899, 8, 13)"
      ]
     },
     "execution_count": 15,
     "metadata": {},
     "output_type": "execute_result"
    }
   ],
   "source": [
    "date.fromisoformat('1899-08-13')"
   ]
  },
  {
   "cell_type": "code",
   "execution_count": 16,
   "metadata": {},
   "outputs": [
    {
     "data": {
      "text/html": [
       "<div>\n",
       "<style scoped>\n",
       "    .dataframe tbody tr th:only-of-type {\n",
       "        vertical-align: middle;\n",
       "    }\n",
       "\n",
       "    .dataframe tbody tr th {\n",
       "        vertical-align: top;\n",
       "    }\n",
       "\n",
       "    .dataframe thead th {\n",
       "        text-align: right;\n",
       "    }\n",
       "</style>\n",
       "<table border=\"1\" class=\"dataframe\">\n",
       "  <thead>\n",
       "    <tr style=\"text-align: right;\">\n",
       "      <th></th>\n",
       "      <th>birthdate</th>\n",
       "      <th>name</th>\n",
       "      <th>movie_count</th>\n",
       "    </tr>\n",
       "    <tr>\n",
       "      <th>id</th>\n",
       "      <th></th>\n",
       "      <th></th>\n",
       "      <th></th>\n",
       "    </tr>\n",
       "  </thead>\n",
       "  <tbody>\n",
       "    <tr>\n",
       "      <th>406</th>\n",
       "      <td>None</td>\n",
       "      <td>John Ford</td>\n",
       "      <td>20</td>\n",
       "    </tr>\n",
       "    <tr>\n",
       "      <th>250445</th>\n",
       "      <td>None</td>\n",
       "      <td>Walter Edwards</td>\n",
       "      <td>14</td>\n",
       "    </tr>\n",
       "    <tr>\n",
       "      <th>102908</th>\n",
       "      <td>None</td>\n",
       "      <td>Robert N. Bradbury</td>\n",
       "      <td>13</td>\n",
       "    </tr>\n",
       "  </tbody>\n",
       "</table>\n",
       "</div>"
      ],
      "text/plain": [
       "       birthdate                name  movie_count\n",
       "id                                               \n",
       "406         None           John Ford           20\n",
       "250445      None      Walter Edwards           14\n",
       "102908      None  Robert N. Bradbury           13"
      ]
     },
     "execution_count": 16,
     "metadata": {},
     "output_type": "execute_result"
    }
   ],
   "source": [
    "dfStatsMovieByDirector[dfStatsMovieByDirector.birthdate.isnull()]"
   ]
  },
  {
   "cell_type": "code",
   "execution_count": 17,
   "metadata": {},
   "outputs": [
    {
     "data": {
      "text/plain": [
       "id\n",
       "33         1899-08-13\n",
       "217        1942-11-17\n",
       "229        1946-12-18\n",
       "142        1930-05-31\n",
       "361        1940-09-11\n",
       "631        1937-11-30\n",
       "247        1946-09-22\n",
       "600        1959-10-23\n",
       "2588606    1969-10-09\n",
       "1392       1961-10-31\n",
       "965        1956-10-20\n",
       "116        1954-08-16\n",
       "233        1963-03-27\n",
       "634240     1970-07-30\n",
       "94435      1969-09-14\n",
       "1053       1957-09-21\n",
       "1054       1954-11-29\n",
       "Name: birthdate, dtype: object"
      ]
     },
     "execution_count": 17,
     "metadata": {},
     "output_type": "execute_result"
    }
   ],
   "source": [
    "dfStatsMovieByDirector[~dfStatsMovieByDirector.birthdate.isnull()].birthdate.apply(date.fromisoformat)"
   ]
  },
  {
   "cell_type": "code",
   "execution_count": 18,
   "metadata": {},
   "outputs": [
    {
     "data": {
      "text/html": [
       "<div>\n",
       "<style scoped>\n",
       "    .dataframe tbody tr th:only-of-type {\n",
       "        vertical-align: middle;\n",
       "    }\n",
       "\n",
       "    .dataframe tbody tr th {\n",
       "        vertical-align: top;\n",
       "    }\n",
       "\n",
       "    .dataframe thead th {\n",
       "        text-align: right;\n",
       "    }\n",
       "</style>\n",
       "<table border=\"1\" class=\"dataframe\">\n",
       "  <thead>\n",
       "    <tr style=\"text-align: right;\">\n",
       "      <th></th>\n",
       "      <th>birthdate</th>\n",
       "      <th>name</th>\n",
       "      <th>movie_count</th>\n",
       "    </tr>\n",
       "    <tr>\n",
       "      <th>id</th>\n",
       "      <th></th>\n",
       "      <th></th>\n",
       "      <th></th>\n",
       "    </tr>\n",
       "  </thead>\n",
       "  <tbody>\n",
       "    <tr>\n",
       "      <th>33</th>\n",
       "      <td>1899-08-13</td>\n",
       "      <td>Alfred Hitchcock</td>\n",
       "      <td>60</td>\n",
       "    </tr>\n",
       "    <tr>\n",
       "      <th>217</th>\n",
       "      <td>1942-11-17</td>\n",
       "      <td>Martin Scorsese</td>\n",
       "      <td>48</td>\n",
       "    </tr>\n",
       "    <tr>\n",
       "      <th>229</th>\n",
       "      <td>1946-12-18</td>\n",
       "      <td>Steven Spielberg</td>\n",
       "      <td>41</td>\n",
       "    </tr>\n",
       "    <tr>\n",
       "      <th>142</th>\n",
       "      <td>1930-05-31</td>\n",
       "      <td>Clint Eastwood</td>\n",
       "      <td>39</td>\n",
       "    </tr>\n",
       "    <tr>\n",
       "      <th>361</th>\n",
       "      <td>1940-09-11</td>\n",
       "      <td>Brian De Palma</td>\n",
       "      <td>38</td>\n",
       "    </tr>\n",
       "    <tr>\n",
       "      <th>631</th>\n",
       "      <td>1937-11-30</td>\n",
       "      <td>Ridley Scott</td>\n",
       "      <td>35</td>\n",
       "    </tr>\n",
       "    <tr>\n",
       "      <th>247</th>\n",
       "      <td>1946-09-22</td>\n",
       "      <td>John Woo</td>\n",
       "      <td>34</td>\n",
       "    </tr>\n",
       "    <tr>\n",
       "      <th>600</th>\n",
       "      <td>1959-10-23</td>\n",
       "      <td>Sam Raimi</td>\n",
       "      <td>31</td>\n",
       "    </tr>\n",
       "    <tr>\n",
       "      <th>2588606</th>\n",
       "      <td>1969-10-09</td>\n",
       "      <td>Steve McQueen</td>\n",
       "      <td>31</td>\n",
       "    </tr>\n",
       "    <tr>\n",
       "      <th>406</th>\n",
       "      <td>None</td>\n",
       "      <td>John Ford</td>\n",
       "      <td>20</td>\n",
       "    </tr>\n",
       "    <tr>\n",
       "      <th>1392</th>\n",
       "      <td>1961-10-31</td>\n",
       "      <td>Peter Jackson</td>\n",
       "      <td>19</td>\n",
       "    </tr>\n",
       "    <tr>\n",
       "      <th>965</th>\n",
       "      <td>1956-10-20</td>\n",
       "      <td>Danny Boyle</td>\n",
       "      <td>18</td>\n",
       "    </tr>\n",
       "    <tr>\n",
       "      <th>116</th>\n",
       "      <td>1954-08-16</td>\n",
       "      <td>James Cameron</td>\n",
       "      <td>14</td>\n",
       "    </tr>\n",
       "    <tr>\n",
       "      <th>250445</th>\n",
       "      <td>None</td>\n",
       "      <td>Walter Edwards</td>\n",
       "      <td>14</td>\n",
       "    </tr>\n",
       "    <tr>\n",
       "      <th>233</th>\n",
       "      <td>1963-03-27</td>\n",
       "      <td>Quentin Tarantino</td>\n",
       "      <td>14</td>\n",
       "    </tr>\n",
       "    <tr>\n",
       "      <th>634240</th>\n",
       "      <td>1970-07-30</td>\n",
       "      <td>Christopher Nolan</td>\n",
       "      <td>13</td>\n",
       "    </tr>\n",
       "    <tr>\n",
       "      <th>102908</th>\n",
       "      <td>None</td>\n",
       "      <td>Robert N. Bradbury</td>\n",
       "      <td>13</td>\n",
       "    </tr>\n",
       "    <tr>\n",
       "      <th>94435</th>\n",
       "      <td>1969-09-14</td>\n",
       "      <td>Bong Joon Ho</td>\n",
       "      <td>12</td>\n",
       "    </tr>\n",
       "    <tr>\n",
       "      <th>1053</th>\n",
       "      <td>1957-09-21</td>\n",
       "      <td>Ethan Coen</td>\n",
       "      <td>12</td>\n",
       "    </tr>\n",
       "    <tr>\n",
       "      <th>1054</th>\n",
       "      <td>1954-11-29</td>\n",
       "      <td>Joel Coen</td>\n",
       "      <td>11</td>\n",
       "    </tr>\n",
       "  </tbody>\n",
       "</table>\n",
       "</div>"
      ],
      "text/plain": [
       "          birthdate                name  movie_count\n",
       "id                                                  \n",
       "33       1899-08-13    Alfred Hitchcock           60\n",
       "217      1942-11-17     Martin Scorsese           48\n",
       "229      1946-12-18    Steven Spielberg           41\n",
       "142      1930-05-31      Clint Eastwood           39\n",
       "361      1940-09-11      Brian De Palma           38\n",
       "631      1937-11-30        Ridley Scott           35\n",
       "247      1946-09-22            John Woo           34\n",
       "600      1959-10-23           Sam Raimi           31\n",
       "2588606  1969-10-09       Steve McQueen           31\n",
       "406            None           John Ford           20\n",
       "1392     1961-10-31       Peter Jackson           19\n",
       "965      1956-10-20         Danny Boyle           18\n",
       "116      1954-08-16       James Cameron           14\n",
       "250445         None      Walter Edwards           14\n",
       "233      1963-03-27   Quentin Tarantino           14\n",
       "634240   1970-07-30   Christopher Nolan           13\n",
       "102908         None  Robert N. Bradbury           13\n",
       "94435    1969-09-14        Bong Joon Ho           12\n",
       "1053     1957-09-21          Ethan Coen           12\n",
       "1054     1954-11-29           Joel Coen           11"
      ]
     },
     "execution_count": 18,
     "metadata": {},
     "output_type": "execute_result"
    }
   ],
   "source": [
    "\n",
    "# def fromisoformat_or_none(dt):\n",
    "#    return date.fromisoformat(bd) if bd is not None else None\n",
    "\n",
    "dfStatsMovieByDirector.birthdate = dfStatsMovieByDirector.birthdate.apply(\n",
    "    lambda bd: date.fromisoformat(bd) if bd is not None else None)\n",
    "dfStatsMovieByDirector"
   ]
  },
  {
   "cell_type": "code",
   "execution_count": 19,
   "metadata": {},
   "outputs": [
    {
     "data": {
      "text/plain": [
       "datetime.date(1899, 8, 13)"
      ]
     },
     "execution_count": 19,
     "metadata": {},
     "output_type": "execute_result"
    }
   ],
   "source": [
    "dfStatsMovieByDirector.loc[33].birthdate"
   ]
  },
  {
   "cell_type": "code",
   "execution_count": 20,
   "metadata": {},
   "outputs": [
    {
     "data": {
      "text/html": [
       "<div>\n",
       "<style scoped>\n",
       "    .dataframe tbody tr th:only-of-type {\n",
       "        vertical-align: middle;\n",
       "    }\n",
       "\n",
       "    .dataframe tbody tr th {\n",
       "        vertical-align: top;\n",
       "    }\n",
       "\n",
       "    .dataframe thead th {\n",
       "        text-align: right;\n",
       "    }\n",
       "</style>\n",
       "<table border=\"1\" class=\"dataframe\">\n",
       "  <thead>\n",
       "    <tr style=\"text-align: right;\">\n",
       "      <th></th>\n",
       "      <th>name</th>\n",
       "      <th>birthdate</th>\n",
       "    </tr>\n",
       "    <tr>\n",
       "      <th>id</th>\n",
       "      <th></th>\n",
       "      <th></th>\n",
       "    </tr>\n",
       "  </thead>\n",
       "  <tbody>\n",
       "    <tr>\n",
       "      <th>1</th>\n",
       "      <td>Fred Astaire</td>\n",
       "      <td>1899-01-01</td>\n",
       "    </tr>\n",
       "    <tr>\n",
       "      <th>2</th>\n",
       "      <td>Lauren Bacall</td>\n",
       "      <td>1924-01-01</td>\n",
       "    </tr>\n",
       "    <tr>\n",
       "      <th>3</th>\n",
       "      <td>Brigitte Bardot</td>\n",
       "      <td>1934-01-01</td>\n",
       "    </tr>\n",
       "    <tr>\n",
       "      <th>6</th>\n",
       "      <td>Ingrid Bergman</td>\n",
       "      <td>1915-01-01</td>\n",
       "    </tr>\n",
       "    <tr>\n",
       "      <th>8</th>\n",
       "      <td>Marlon Brando</td>\n",
       "      <td>1924-01-01</td>\n",
       "    </tr>\n",
       "    <tr>\n",
       "      <th>...</th>\n",
       "      <td>...</td>\n",
       "      <td>...</td>\n",
       "    </tr>\n",
       "    <tr>\n",
       "      <th>1710</th>\n",
       "      <td>David Schwimmer</td>\n",
       "      <td>1966-01-01</td>\n",
       "    </tr>\n",
       "    <tr>\n",
       "      <th>1711</th>\n",
       "      <td>Annabella Sciorra</td>\n",
       "      <td>1960-01-01</td>\n",
       "    </tr>\n",
       "    <tr>\n",
       "      <th>1714</th>\n",
       "      <td>Campbell Scott</td>\n",
       "      <td>1961-01-01</td>\n",
       "    </tr>\n",
       "    <tr>\n",
       "      <th>1716</th>\n",
       "      <td>Tony Scott</td>\n",
       "      <td>NaT</td>\n",
       "    </tr>\n",
       "    <tr>\n",
       "      <th>1718</th>\n",
       "      <td>Kyra Sedgwick</td>\n",
       "      <td>1965-01-01</td>\n",
       "    </tr>\n",
       "  </tbody>\n",
       "</table>\n",
       "<p>1000 rows × 2 columns</p>\n",
       "</div>"
      ],
      "text/plain": [
       "                   name  birthdate\n",
       "id                                \n",
       "1          Fred Astaire 1899-01-01\n",
       "2         Lauren Bacall 1924-01-01\n",
       "3       Brigitte Bardot 1934-01-01\n",
       "6        Ingrid Bergman 1915-01-01\n",
       "8         Marlon Brando 1924-01-01\n",
       "...                 ...        ...\n",
       "1710    David Schwimmer 1966-01-01\n",
       "1711  Annabella Sciorra 1960-01-01\n",
       "1714     Campbell Scott 1961-01-01\n",
       "1716         Tony Scott        NaT\n",
       "1718      Kyra Sedgwick 1965-01-01\n",
       "\n",
       "[1000 rows x 2 columns]"
      ]
     },
     "execution_count": 20,
     "metadata": {},
     "output_type": "execute_result"
    }
   ],
   "source": [
    "# other idea: instead of apply read column birthdate as datetime64 (NaT)\n",
    "limit = 1000\n",
    "dfStars = pd.read_json(f'http://localhost:8000/stars?limit={limit}', convert_dates=['birthdate'])\n",
    "dfStars.set_index('id', inplace=True)\n",
    "dfStars"
   ]
  },
  {
   "cell_type": "code",
   "execution_count": 23,
   "metadata": {},
   "outputs": [
    {
     "data": {
      "text/plain": [
       "<matplotlib.axes._subplots.AxesSubplot at 0x7fae909c5bb0>"
      ]
     },
     "execution_count": 23,
     "metadata": {},
     "output_type": "execute_result"
    },
    {
     "data": {
      "image/png": "[encoded data removed]",
      "text/plain": [
       "<Figure size 432x288 with 1 Axes>"
      ]
     },
     "metadata": {
      "needs_background": "light"
     },
     "output_type": "display_data"
    }
   ],
   "source": [
    "statsToPlot = dfStatsMovieByDirector[dfStatsMovieByDirector.movie_count > 30][['name','movie_count']] \\\n",
    "    .set_index('name')\n",
    "statsToPlot.plot(kind='bar')"
   ]
  },
  {
   "cell_type": "code",
   "execution_count": 24,
   "metadata": {},
   "outputs": [
    {
     "data": {
      "text/plain": [
       "[<matplotlib.lines.Line2D at 0x7fae908fb910>]"
      ]
     },
     "execution_count": 24,
     "metadata": {},
     "output_type": "execute_result"
    },
    {
     "data": {
      "image/png": "[encoded data removed]",
      "text/plain": [
       "<Figure size 432x288 with 1 Axes>"
      ]
     },
     "metadata": {
      "needs_background": "light"
     },
     "output_type": "display_data"
    }
   ],
   "source": [
    "# 1 methode par type de graphe : plot, bar, piechart, ...\n",
    "movie_count_ndarray = dfStatsMovieByDirector.movie_count.values\n",
    "plt.plot(movie_count_ndarray)"
   ]
  },
  {
   "cell_type": "code",
   "execution_count": 25,
   "metadata": {},
   "outputs": [
    {
     "data": {
      "text/plain": [
       "[<matplotlib.lines.Line2D at 0x7fae908d0b80>]"
      ]
     },
     "execution_count": 25,
     "metadata": {},
     "output_type": "execute_result"
    },
    {
     "data": {
      "image/png": "[encoded data removed]",
      "text/plain": [
       "<Figure size 432x288 with 1 Axes>"
      ]
     },
     "metadata": {
      "needs_background": "light"
     },
     "output_type": "display_data"
    }
   ],
   "source": [
    "# fig : l'ensemble du dessin\n",
    "# ax : 1 tracé\n",
    "fig, ax = plt.subplots()\n",
    "ax.plot(movie_count_ndarray)"
   ]
  },
  {
   "cell_type": "code",
   "execution_count": 27,
   "metadata": {},
   "outputs": [
    {
     "data": {
      "text/plain": [
       "Text(0.5, 1.0, 'diag bar')"
      ]
     },
     "execution_count": 27,
     "metadata": {},
     "output_type": "execute_result"
    },
    {
     "data": {
      "image/png": "[encoded data removed]",
      "text/plain": [
       "<Figure size 432x288 with 2 Axes>"
      ]
     },
     "metadata": {
      "needs_background": "light"
     },
     "output_type": "display_data"
    }
   ],
   "source": [
    "# fig : l'ensemble du dessin\n",
    "# ax1, ax2 : 2 tracés\n",
    "fig, (ax1, ax2) = plt.subplots(1,2)\n",
    "# tracé 1 sur ax1\n",
    "ax1.plot(movie_count_ndarray)\n",
    "ax1.set_xlabel('x')\n",
    "ax1.set_ylabel('movie count')\n",
    "ax1.set_title('diag plot')\n",
    "# tracé 2 sur ax2\n",
    "statsToPlot.plot(kind='bar', ax=ax2)\n",
    "ax2.set_title('diag bar')"
   ]
  },
  {
   "cell_type": "code",
   "execution_count": 29,
   "metadata": {},
   "outputs": [],
   "source": [
    "x= np.arange(1000)\n",
    "y= x**2+1\n"
   ]
  },
  {
   "cell_type": "code",
   "execution_count": 35,
   "metadata": {},
   "outputs": [
    {
     "data": {
      "image/png": "[encoded data removed]",
      "text/plain": [
       "<Figure size 432x288 with 1 Axes>"
      ]
     },
     "metadata": {
      "needs_background": "light"
     },
     "output_type": "display_data"
    }
   ],
   "source": [
    "fig, ax = plt.subplots()\n",
    "ax.plot(x,y)\n",
    "ax.set_xlim(0,800)\n",
    "#graduation majeure sur x\n",
    "ax.xaxis.set_major_locator(ticker.MultipleLocator(200))\n",
    "#graduation mineure sur x\n",
    "ax.xaxis.set_minor_locator(ticker.MultipleLocator(50))"
   ]
  },
  {
   "cell_type": "code",
   "execution_count": 43,
   "metadata": {},
   "outputs": [
    {
     "data": {
      "image/png": "[encoded data removed]",
      "text/plain": [
       "<Figure size 432x288 with 1 Axes>"
      ]
     },
     "metadata": {
      "needs_background": "light"
     },
     "output_type": "display_data"
    }
   ],
   "source": [
    "x = np.linspace(0,2*np.pi,1000)\n",
    "y=np.sin(x)\n",
    "fig, ax = plt.subplots()\n",
    "ax.plot(x,y)\n",
    "#graduation majeure sur y\n",
    "ax.yaxis.set_major_locator(ticker.MultipleLocator(1/3))\n",
    "#formattage des labels sur la formation \n",
    "ax.yaxis.set_major_formatter(ticker.FuncFormatter(lambda y,_: f'{y:.2f}s'))\n",
    "#graduation mineure sur y\n",
    "#ax.yaxis.set_minor_locator(ticker.MultipleLocator(0.1))"
   ]
  },
  {
   "cell_type": "code",
   "execution_count": 44,
   "metadata": {},
   "outputs": [
    {
     "data": {
      "text/plain": [
       "<matplotlib.dates.DateFormatter at 0x7fae90366730>"
      ]
     },
     "execution_count": 44,
     "metadata": {},
     "output_type": "execute_result"
    }
   ],
   "source": [
    "# formattage et graduation de datetime, ...\n",
    "mdates.YearLocator()\n",
    "mdates.MonthLocator()\n",
    "mdates.DayLocator()\n",
    "mdates.DateFormatter('%Y-%m')"
   ]
  },
  {
   "cell_type": "markdown",
   "metadata": {},
   "source": [
    "################    Rendu pour tp    ######################"
   ]
  },
  {
   "cell_type": "markdown",
   "metadata": {},
   "source": [
    "QUESTION 1"
   ]
  },
  {
   "cell_type": "markdown",
   "metadata": {},
   "source": [
    "stars by_birthyear(1year)"
   ]
  },
  {
   "cell_type": "code",
   "execution_count": 162,
   "metadata": {},
   "outputs": [
    {
     "data": {
      "text/html": [
       "<div>\n",
       "<style scoped>\n",
       "    .dataframe tbody tr th:only-of-type {\n",
       "        vertical-align: middle;\n",
       "    }\n",
       "\n",
       "    .dataframe tbody tr th {\n",
       "        vertical-align: top;\n",
       "    }\n",
       "\n",
       "    .dataframe thead th {\n",
       "        text-align: right;\n",
       "    }\n",
       "</style>\n",
       "<table border=\"1\" class=\"dataframe\">\n",
       "  <thead>\n",
       "    <tr style=\"text-align: right;\">\n",
       "      <th></th>\n",
       "      <th>name</th>\n",
       "      <th>birthdate</th>\n",
       "      <th>id</th>\n",
       "    </tr>\n",
       "  </thead>\n",
       "  <tbody>\n",
       "    <tr>\n",
       "      <th>0</th>\n",
       "      <td>'Chico' Hernandez</td>\n",
       "      <td>1958-01-01</td>\n",
       "      <td>379491</td>\n",
       "    </tr>\n",
       "    <tr>\n",
       "      <th>1</th>\n",
       "      <td>Adolfo Jimenez</td>\n",
       "      <td>1958-01-01</td>\n",
       "      <td>2444247</td>\n",
       "    </tr>\n",
       "    <tr>\n",
       "      <th>2</th>\n",
       "      <td>Alan Polonsky</td>\n",
       "      <td>1958-01-01</td>\n",
       "      <td>689797</td>\n",
       "    </tr>\n",
       "    <tr>\n",
       "      <th>3</th>\n",
       "      <td>Albert Macklin</td>\n",
       "      <td>1958-01-01</td>\n",
       "      <td>533621</td>\n",
       "    </tr>\n",
       "    <tr>\n",
       "      <th>4</th>\n",
       "      <td>Alec Baldwin</td>\n",
       "      <td>1958-01-01</td>\n",
       "      <td>285</td>\n",
       "    </tr>\n",
       "    <tr>\n",
       "      <th>...</th>\n",
       "      <td>...</td>\n",
       "      <td>...</td>\n",
       "      <td>...</td>\n",
       "    </tr>\n",
       "    <tr>\n",
       "      <th>132</th>\n",
       "      <td>Viggo Mortensen</td>\n",
       "      <td>1958-01-01</td>\n",
       "      <td>1557</td>\n",
       "    </tr>\n",
       "    <tr>\n",
       "      <th>133</th>\n",
       "      <td>Wanda De Jesus</td>\n",
       "      <td>1958-01-01</td>\n",
       "      <td>208962</td>\n",
       "    </tr>\n",
       "    <tr>\n",
       "      <th>134</th>\n",
       "      <td>Wayne Duvall</td>\n",
       "      <td>1958-01-01</td>\n",
       "      <td>245145</td>\n",
       "    </tr>\n",
       "    <tr>\n",
       "      <th>135</th>\n",
       "      <td>William Wai-Lun Duen</td>\n",
       "      <td>1958-01-01</td>\n",
       "      <td>1026247</td>\n",
       "    </tr>\n",
       "    <tr>\n",
       "      <th>136</th>\n",
       "      <td>Xiaogang Feng</td>\n",
       "      <td>1958-01-01</td>\n",
       "      <td>271815</td>\n",
       "    </tr>\n",
       "  </tbody>\n",
       "</table>\n",
       "<p>137 rows × 3 columns</p>\n",
       "</div>"
      ],
      "text/plain": [
       "                     name  birthdate       id\n",
       "0       'Chico' Hernandez 1958-01-01   379491\n",
       "1          Adolfo Jimenez 1958-01-01  2444247\n",
       "2           Alan Polonsky 1958-01-01   689797\n",
       "3          Albert Macklin 1958-01-01   533621\n",
       "4            Alec Baldwin 1958-01-01      285\n",
       "..                    ...        ...      ...\n",
       "132       Viggo Mortensen 1958-01-01     1557\n",
       "133        Wanda De Jesus 1958-01-01   208962\n",
       "134          Wayne Duvall 1958-01-01   245145\n",
       "135  William Wai-Lun Duen 1958-01-01  1026247\n",
       "136         Xiaogang Feng 1958-01-01   271815\n",
       "\n",
       "[137 rows x 3 columns]"
      ]
     },
     "execution_count": 162,
     "metadata": {},
     "output_type": "execute_result"
    }
   ],
   "source": [
    "year = 1958\n",
    "dfStarsByBirthyear = pd.read_json(f\"http://localhost:8000/stars/by_birthyear/{year}\", convert_dates=['birthdate'])\n",
    "dfStarsByBirthyear"
   ]
  },
  {
   "cell_type": "markdown",
   "metadata": {},
   "source": [
    "movies by_title_part (1 fragment title)"
   ]
  },
  {
   "cell_type": "code",
   "execution_count": 169,
   "metadata": {},
   "outputs": [
    {
     "data": {
      "text/html": [
       "<div>\n",
       "<style scoped>\n",
       "    .dataframe tbody tr th:only-of-type {\n",
       "        vertical-align: middle;\n",
       "    }\n",
       "\n",
       "    .dataframe tbody tr th {\n",
       "        vertical-align: top;\n",
       "    }\n",
       "\n",
       "    .dataframe thead th {\n",
       "        text-align: right;\n",
       "    }\n",
       "</style>\n",
       "<table border=\"1\" class=\"dataframe\">\n",
       "  <thead>\n",
       "    <tr style=\"text-align: right;\">\n",
       "      <th></th>\n",
       "      <th>title</th>\n",
       "      <th>year</th>\n",
       "      <th>duration</th>\n",
       "      <th>id</th>\n",
       "    </tr>\n",
       "  </thead>\n",
       "  <tbody>\n",
       "    <tr>\n",
       "      <th>0</th>\n",
       "      <td>Lady by the Sea: The Statue of Liberty</td>\n",
       "      <td>2004</td>\n",
       "      <td>55</td>\n",
       "      <td>397507</td>\n",
       "    </tr>\n",
       "    <tr>\n",
       "      <th>1</th>\n",
       "      <td>The Man Who Shot Liberty Valance</td>\n",
       "      <td>1962</td>\n",
       "      <td>123</td>\n",
       "      <td>56217</td>\n",
       "    </tr>\n",
       "  </tbody>\n",
       "</table>\n",
       "</div>"
      ],
      "text/plain": [
       "                                    title  year  duration      id\n",
       "0  Lady by the Sea: The Statue of Liberty  2004        55  397507\n",
       "1        The Man Who Shot Liberty Valance  1962       123   56217"
      ]
     },
     "execution_count": 169,
     "metadata": {},
     "output_type": "execute_result"
    }
   ],
   "source": [
    "part = \"liberty \"\n",
    "dfMoviesByTitlePart = pd.read_json(f\"http://localhost:8000/movies/by_title_part/?t={part}\")\n",
    "dfMoviesByTitlePart"
   ]
  },
  {
   "cell_type": "markdown",
   "metadata": {},
   "source": [
    "stats par acteurs"
   ]
  },
  {
   "cell_type": "code",
   "execution_count": 170,
   "metadata": {},
   "outputs": [
    {
     "data": {
      "text/html": [
       "<div>\n",
       "<style scoped>\n",
       "    .dataframe tbody tr th:only-of-type {\n",
       "        vertical-align: middle;\n",
       "    }\n",
       "\n",
       "    .dataframe tbody tr th {\n",
       "        vertical-align: top;\n",
       "    }\n",
       "\n",
       "    .dataframe thead th {\n",
       "        text-align: right;\n",
       "    }\n",
       "</style>\n",
       "<table border=\"1\" class=\"dataframe\">\n",
       "  <thead>\n",
       "    <tr style=\"text-align: right;\">\n",
       "      <th></th>\n",
       "      <th>birthdate</th>\n",
       "      <th>id</th>\n",
       "      <th>premierFilm</th>\n",
       "      <th>dernierFilm</th>\n",
       "      <th>movie_count</th>\n",
       "    </tr>\n",
       "    <tr>\n",
       "      <th>name</th>\n",
       "      <th></th>\n",
       "      <th></th>\n",
       "      <th></th>\n",
       "      <th></th>\n",
       "      <th></th>\n",
       "    </tr>\n",
       "  </thead>\n",
       "  <tbody>\n",
       "    <tr>\n",
       "      <th>John Wayne</th>\n",
       "      <td>1907-05-26</td>\n",
       "      <td>78</td>\n",
       "      <td>1926</td>\n",
       "      <td>1976</td>\n",
       "      <td>172</td>\n",
       "    </tr>\n",
       "    <tr>\n",
       "      <th>Harrison Ford</th>\n",
       "      <td>1884-03-16</td>\n",
       "      <td>1230</td>\n",
       "      <td>1915</td>\n",
       "      <td>1932</td>\n",
       "      <td>86</td>\n",
       "    </tr>\n",
       "    <tr>\n",
       "      <th>Sylvester Stallone</th>\n",
       "      <td>1946-07-06</td>\n",
       "      <td>230</td>\n",
       "      <td>1969</td>\n",
       "      <td>2019</td>\n",
       "      <td>73</td>\n",
       "    </tr>\n",
       "    <tr>\n",
       "      <th>Sean Connery</th>\n",
       "      <td>1930-08-25</td>\n",
       "      <td>125</td>\n",
       "      <td>1954</td>\n",
       "      <td>2012</td>\n",
       "      <td>73</td>\n",
       "    </tr>\n",
       "    <tr>\n",
       "      <th>Tom Hanks</th>\n",
       "      <td>1956-07-09</td>\n",
       "      <td>158</td>\n",
       "      <td>1980</td>\n",
       "      <td>2020</td>\n",
       "      <td>69</td>\n",
       "    </tr>\n",
       "    <tr>\n",
       "      <th>...</th>\n",
       "      <td>...</td>\n",
       "      <td>...</td>\n",
       "      <td>...</td>\n",
       "      <td>...</td>\n",
       "      <td>...</td>\n",
       "    </tr>\n",
       "    <tr>\n",
       "      <th>James Stewart</th>\n",
       "      <td>1908-01-01</td>\n",
       "      <td>71</td>\n",
       "      <td>1948</td>\n",
       "      <td>1976</td>\n",
       "      <td>7</td>\n",
       "    </tr>\n",
       "    <tr>\n",
       "      <th>Kim Robillard</th>\n",
       "      <td>1955-01-01</td>\n",
       "      <td>732152</td>\n",
       "      <td>1988</td>\n",
       "      <td>2012</td>\n",
       "      <td>7</td>\n",
       "    </tr>\n",
       "    <tr>\n",
       "      <th>Harold Miller</th>\n",
       "      <td>1894-01-01</td>\n",
       "      <td>588443</td>\n",
       "      <td>1940</td>\n",
       "      <td>1961</td>\n",
       "      <td>7</td>\n",
       "    </tr>\n",
       "    <tr>\n",
       "      <th>Nora Bush</th>\n",
       "      <td>1875-01-01</td>\n",
       "      <td>124181</td>\n",
       "      <td>1940</td>\n",
       "      <td>1956</td>\n",
       "      <td>7</td>\n",
       "    </tr>\n",
       "    <tr>\n",
       "      <th>Denholm Elliott</th>\n",
       "      <td>1922-01-01</td>\n",
       "      <td>1186</td>\n",
       "      <td>1976</td>\n",
       "      <td>2008</td>\n",
       "      <td>7</td>\n",
       "    </tr>\n",
       "  </tbody>\n",
       "</table>\n",
       "<p>371 rows × 5 columns</p>\n",
       "</div>"
      ],
      "text/plain": [
       "                     birthdate      id  premierFilm  dernierFilm  movie_count\n",
       "name                                                                         \n",
       "John Wayne          1907-05-26      78         1926         1976          172\n",
       "Harrison Ford       1884-03-16    1230         1915         1932           86\n",
       "Sylvester Stallone  1946-07-06     230         1969         2019           73\n",
       "Sean Connery        1930-08-25     125         1954         2012           73\n",
       "Tom Hanks           1956-07-09     158         1980         2020           69\n",
       "...                        ...     ...          ...          ...          ...\n",
       "James Stewart       1908-01-01      71         1948         1976            7\n",
       "Kim Robillard       1955-01-01  732152         1988         2012            7\n",
       "Harold Miller       1894-01-01  588443         1940         1961            7\n",
       "Nora Bush           1875-01-01  124181         1940         1956            7\n",
       "Denholm Elliott     1922-01-01    1186         1976         2008            7\n",
       "\n",
       "[371 rows x 5 columns]"
      ]
     },
     "execution_count": 170,
     "metadata": {},
     "output_type": "execute_result"
    }
   ],
   "source": [
    "dfStatsByActor = requests.get(\"http://localhost:8000/stars/stats_first_last_movie_by_actor\")\n",
    "\n",
    "data_json = dfStatsByActor.json()\n",
    "data_flatten = [ (actor_dict['name'],premierFilm, dernierFilm, movie_count )  \n",
    "         for actor_dict, premierFilm, dernierFilm, movie_count in data_json ]\n",
    "data_flatten = [ {**actor_dict,'premierFilm': premierFilm, 'dernierFilm': dernierFilm,  'movie_count': movie_count }  \n",
    "         for actor_dict, premierFilm, dernierFilm, movie_count in data_json ]\n",
    "dfStatsByActor = pd.DataFrame(data_flatten)\n",
    "dfStatsByActor.set_index('name', inplace=True)\n",
    "dfStatsByActor"
   ]
  },
  {
   "cell_type": "markdown",
   "metadata": {},
   "source": [
    "QUESTION 2"
   ]
  },
  {
   "cell_type": "code",
   "execution_count": 171,
   "metadata": {},
   "outputs": [
    {
     "data": {
      "image/png": "[encoded data removed]",
      "text/plain": [
       "<Figure size 720x504 with 1 Axes>"
      ]
     },
     "metadata": {
      "needs_background": "light"
     },
     "output_type": "display_data"
    }
   ],
   "source": [
    "dfCountStarsByYear = dfStars[~dfStars.birthdate.isna()].groupby(pd.Grouper(key='birthdate', freq='Y')).count()\n",
    "fig, ax = plt.subplots(1,1, figsize=(10,7))\n",
    "\n",
    "\n",
    "ax.bar(dfCountStarsByYear.index, dfCountStarsByYear.name, width=250)\n",
    "ax.set_title(\"Stars nées par année\")\n",
    "ax.xaxis.set_minor_locator(mdates.YearLocator(base=5))\n",
    "ax.xaxis.set_major_formatter(mdates.DateFormatter('%Y'))\n"
   ]
  },
  {
   "cell_type": "code",
   "execution_count": 172,
   "metadata": {},
   "outputs": [
    {
     "data": {
      "image/png": "[encoded data removed]",
      "text/plain": [
       "<Figure size 720x504 with 1 Axes>"
      ]
     },
     "metadata": {
      "needs_background": "light"
     },
     "output_type": "display_data"
    }
   ],
   "source": [
    "dfCountMoviesByYear = dfMovies.groupby(pd.Grouper(key='year')).count() [['title']]\n",
    "fig, ax = plt.subplots(1,1, figsize=(10,7))\n",
    "\n",
    "ax.bar(dfCountMoviesByYear.index, dfCountMoviesByYear.title)\n",
    "ax.set_title(\"Films par année\")\n",
    "ax.set_xlim(1914, 2021)\n",
    "ax.xaxis.set_minor_locator(ticker.MultipleLocator(5))"
   ]
  },
  {
   "cell_type": "code",
   "execution_count": null,
   "metadata": {},
   "outputs": [],
   "source": []
  },
  {
   "cell_type": "markdown",
   "metadata": {},
   "source": [
    "QUESTION 3"
   ]
  },
  {
   "cell_type": "code",
   "execution_count": 161,
   "metadata": {},
   "outputs": [
    {
     "data": {
      "text/plain": [
       "(1914.0, 2021.0)"
      ]
     },
     "execution_count": 161,
     "metadata": {},
     "output_type": "execute_result"
    },
    {
     "data": {
      "image/png": "[encoded data removed]",
      "text/plain": [
       "<Figure size 1440x360 with 2 Axes>"
      ]
     },
     "metadata": {
      "needs_background": "light"
     },
     "output_type": "display_data"
    }
   ],
   "source": [
    "response = requests.get(\"http://localhost:8000/stars/stats_first_last_movie_by_actor\")\n",
    "data_json = response.json()\n",
    "response_flatten = [ (actor_dict['birthdate'],actor_dict['name'],actor_dict['id'],premierFilm, dernierFilm, movie_count )  \n",
    "         for actor_dict, premierFilm, dernierFilm, movie_count in data_json ]\n",
    "response_flatten = [ {**actor_dict,'premierFilm': premierFilm, 'dernierFilm': dernierFilm,  'movie_count': movie_count }  \n",
    "         for actor_dict, premierFilm, dernierFilm, movie_count in data_json ]\n",
    "dfActors = pd.DataFrame(response_flatten)\n",
    "dfActors['birthdate'] = pd.to_datetime(dfActors['birthdate']).dt.strftime(\"%d/%m/%Y\")\n",
    "dfTop10Actors = dfActors[:10] if dfActors.size >= 10 else dfActors\n",
    "\n",
    "\n",
    "\n",
    "dfTop10ActorsMovie = dfTop10Actors[['name', 'movie_count']].set_index('name')\n",
    "dfTop10ActorsYears = dfTop10Actors[['name', 'premierFilm', 'dernierFilm']].set_index('name')\n",
    "fig, (ax1, ax2) = plt.subplots(1, 2, figsize=(20,5))\n",
    "\n",
    "dfTop10ActorsMovie.plot(kind=\"bar\", ax=ax1)\n",
    "ax1.set_title(\"Nombre de films par acteur du top 10\")\n",
    "ax1.yaxis.set_minor_locator(ticker.MultipleLocator(5))\n",
    "ax1.set_xlabel(\"Acteurs du top 10\")\n",
    "\n",
    "dfTop10ActorsYears.plot(kind=\"bar\", ax=ax2)\n",
    "ax2.set_title(\"Premier et Dernier film des acteurs du top 10\")\n",
    "ax2.yaxis.set_minor_locator(ticker.MultipleLocator(5))\n",
    "ax2.set_xlabel(\"Acteurs du top 10\")\n",
    "ax2.set_ylim(1914, 2021)"
   ]
  },
  {
   "cell_type": "code",
   "execution_count": null,
   "metadata": {},
   "outputs": [],
   "source": []
  },
  {
   "cell_type": "code",
   "execution_count": null,
   "metadata": {},
   "outputs": [],
   "source": []
  },
  {
   "cell_type": "code",
   "execution_count": null,
   "metadata": {},
   "outputs": [],
   "source": []
  }
 ],
 "metadata": {
  "kernelspec": {
   "display_name": "Python 3",
   "language": "python",
   "name": "python3"
  },
  "language_info": {
   "codemirror_mode": {
    "name": "ipython",
    "version": 3
   },
   "file_extension": ".py",
   "mimetype": "text/x-python",
   "name": "python",
   "nbconvert_exporter": "python",
   "pygments_lexer": "ipython3",
   "version": "3.8.3"
  }
 },
 "nbformat": 4,
 "nbformat_minor": 4
}
